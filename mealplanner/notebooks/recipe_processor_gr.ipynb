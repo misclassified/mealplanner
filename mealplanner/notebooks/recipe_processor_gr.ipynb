{
 "cells": [
  {
   "cell_type": "code",
   "execution_count": 50,
   "metadata": {},
   "outputs": [],
   "source": [
    "import datetime\n",
    "import re\n",
    "\n",
    "import pandas as pd\n",
    "import numpy as np\n",
    "import time \n",
    "\n",
    "from bs4 import BeautifulSoup\n",
    "import requests"
   ]
  },
  {
   "cell_type": "code",
   "execution_count": 51,
   "metadata": {},
   "outputs": [],
   "source": [
    "ricette = pd.read_excel('RICETTE.xlsx')\n",
    "ricette.columns = ['RICETTA', 'LINK']"
   ]
  },
  {
   "cell_type": "code",
   "execution_count": 69,
   "metadata": {},
   "outputs": [
    {
     "name": "stdout",
     "output_type": "stream",
     "text": [
      "Burger di patate\n",
      "Carne alla pizzaiola\n",
      "Club sandwich\n"
     ]
    },
    {
     "ename": "KeyboardInterrupt",
     "evalue": "",
     "output_type": "error",
     "traceback": [
      "\u001b[0;31m---------------------------------------------------------------------------\u001b[0m",
      "\u001b[0;31mKeyboardInterrupt\u001b[0m                         Traceback (most recent call last)",
      "\u001b[0;32m<ipython-input-69-b2b332f7707b>\u001b[0m in \u001b[0;36m<module>\u001b[0;34m()\u001b[0m\n\u001b[1;32m      5\u001b[0m \u001b[0;32mfor\u001b[0m \u001b[0mr\u001b[0m \u001b[0;32min\u001b[0m \u001b[0mricette\u001b[0m\u001b[0;34m.\u001b[0m\u001b[0mitertuples\u001b[0m\u001b[0;34m(\u001b[0m\u001b[0;34m)\u001b[0m\u001b[0;34m:\u001b[0m\u001b[0;34m\u001b[0m\u001b[0m\n\u001b[1;32m      6\u001b[0m \u001b[0;34m\u001b[0m\u001b[0m\n\u001b[0;32m----> 7\u001b[0;31m     \u001b[0mtime\u001b[0m\u001b[0;34m.\u001b[0m\u001b[0msleep\u001b[0m\u001b[0;34m(\u001b[0m\u001b[0;36m3\u001b[0m\u001b[0;34m)\u001b[0m\u001b[0;34m\u001b[0m\u001b[0m\n\u001b[0m\u001b[1;32m      8\u001b[0m     \u001b[0mrec\u001b[0m \u001b[0;34m=\u001b[0m \u001b[0mr\u001b[0m\u001b[0;34m.\u001b[0m\u001b[0mRICETTA\u001b[0m\u001b[0;34m.\u001b[0m\u001b[0mlower\u001b[0m\u001b[0;34m(\u001b[0m\u001b[0;34m)\u001b[0m\u001b[0;34m.\u001b[0m\u001b[0mcapitalize\u001b[0m\u001b[0;34m(\u001b[0m\u001b[0;34m)\u001b[0m\u001b[0;34m\u001b[0m\u001b[0m\n\u001b[1;32m      9\u001b[0m     \u001b[0mprint\u001b[0m\u001b[0;34m(\u001b[0m\u001b[0mrec\u001b[0m\u001b[0;34m)\u001b[0m\u001b[0;34m\u001b[0m\u001b[0m\n",
      "\u001b[0;31mKeyboardInterrupt\u001b[0m: "
     ]
    }
   ],
   "source": [
    "fact_tuples = []\n",
    "\n",
    "source = 'GF'\n",
    "\n",
    "for r in ricette.itertuples():\n",
    "    \n",
    "    time.sleep(3)\n",
    "    rec = r.RICETTA.lower().capitalize()\n",
    "    print(rec)\n",
    "    \n",
    "\n",
    "    # Get Page\n",
    "    html = requests.get(r.LINK)\n",
    "    soup = BeautifulSoup(html.text, 'html.parser')\n",
    "    \n",
    "    \n",
    "    # --------------------------------------------------- #\n",
    "    # Get Recipe Features \n",
    "    \n",
    "    for j in soup.find_all(\"span\", class_=\"gz-name-featured-data\"):\n",
    "    \n",
    "        txt = j.text\n",
    "\n",
    "        if txt.find('Difficoltà:') != -1:\n",
    "            diff = txt.split(\":\")[-1].strip()\n",
    "        \n",
    "        if txt.find('Preparazione:') != -1:\n",
    "            prep = txt.split(\":\")[-1].strip()\n",
    "        \n",
    "        if txt.find('Cottura:') != -1:\n",
    "            cooktime = txt.split(\":\")[-1].strip()\n",
    "        \n",
    "        if txt.find('Dosi per:') != -1:\n",
    "            dose = txt.split(\":\")[-1].strip()\n",
    "\n",
    "        if txt.find('Costo:') != -1:\n",
    "            cost = txt.split(\":\")[-1].strip()\n",
    "            \n",
    "    feat_tup = (diff, prep, cooktime, dose, cost, r.LINK, source)\n",
    "    \n",
    "    # --------------------------------------------------- #\n",
    "    # Get Ingredients\n",
    "    \n",
    "    for i in soup.find_all(\"dd\", class_=\"gz-ingredient\"):\n",
    "    \n",
    "        fact = i.text.split()\n",
    "\n",
    "        if fact[-1].strip() == 'q.b.':\n",
    "            \n",
    "            ingredient = \" \".join(fact[:-1])\n",
    "            unit_measure = fact[-1]\n",
    "            quantity = None\n",
    "            \n",
    "            fact_tup = (rec, ingredient, unit_measure, quantity)\n",
    "            full_tup = fact_tup + feat_tup\n",
    "            fact_tuples.append(full_tup)\n",
    "        \n",
    "        elif re.search('^[0-9]+$', fact[-1].strip()):\n",
    "            \n",
    "            ingredient = \" \".join(fact[:-1])\n",
    "            unit_measure = None\n",
    "            quantity = fact[-1]\n",
    "            \n",
    "            fact_tup = (rec, ingredient, unit_measure, quantity)\n",
    "            full_tup = fact_tup + feat_tup\n",
    "            fact_tuples.append(full_tup)\n",
    "            \n",
    "        else:\n",
    "            \n",
    "            ingredient = \" \".join(fact[:-2])\n",
    "            unit_measure = fact[-1]\n",
    "            quantity = fact[-2]\n",
    "            \n",
    "            fact_tup = (rec, ingredient, unit_measure, quantity)\n",
    "            full_tup = fact_tup + feat_tup\n",
    "            fact_tuples.append(full_tup)\n",
    "            \n",
    "        break"
   ]
  },
  {
   "cell_type": "code",
   "execution_count": 55,
   "metadata": {},
   "outputs": [],
   "source": [
    "# Create Recipes Fact DF\n",
    "\n",
    "cols = ['recipe_name', 'ingredient', 'unit_measure', 'quantity', 'preparation',\n",
    "        'preparation_time', 'cooking_time', 'dose', 'cost_range', 'url', 'recipe_source']\n",
    "df = pd.DataFrame(fact_tuples, columns = cols)\n",
    "\n",
    "# Add timestamp\n",
    "\n",
    "df['timestamp'] = datetime.datetime.now()"
   ]
  },
  {
   "cell_type": "code",
   "execution_count": 37,
   "metadata": {},
   "outputs": [],
   "source": [
    "df = pd.DataFrame(fact_tuples, columns = cols)"
   ]
  },
  {
   "cell_type": "code",
   "execution_count": null,
   "metadata": {},
   "outputs": [],
   "source": [
    "# Make dose numeric\n",
    "df['dose'] = [int(x.split()[0]) for x in df['dose']]"
   ]
  },
  {
   "cell_type": "code",
   "execution_count": 68,
   "metadata": {},
   "outputs": [],
   "source": [
    "df.to_excel('scraped_recipes.xlsx')"
   ]
  },
  {
   "cell_type": "markdown",
   "metadata": {},
   "source": [
    "# Clean Up"
   ]
  },
  {
   "cell_type": "code",
   "execution_count": 64,
   "metadata": {},
   "outputs": [],
   "source": [
    "# Make dose numeric\n",
    "df['dose'] = [int(x.split()[0]) for x in df['dose']]"
   ]
  },
  {
   "cell_type": "code",
   "execution_count": 67,
   "metadata": {},
   "outputs": [
    {
     "data": {
      "text/plain": [
       "array(['650', '140', '60', '50', '1', '40', '20', '2', None, '80', '100',\n",
       "       '10', 'qualche', '300', '200', '6', '4', '15', '430', '500', '3',\n",
       "       '450', '30', '130', '220', '800', '8', '400', '350', '5', '150',\n",
       "       '600', '250', '70', '12', '900', '120', '320', '180', '4-5', '1,3',\n",
       "       '½', '750', '110', '375', '7', '160', '90', '1,5', '170', '25',\n",
       "       '18'], dtype=object)"
      ]
     },
     "execution_count": 67,
     "metadata": {},
     "output_type": "execute_result"
    }
   ],
   "source": [
    "df['quantity'].unique()"
   ]
  },
  {
   "cell_type": "code",
   "execution_count": 70,
   "metadata": {},
   "outputs": [],
   "source": [
    "# # Divide quantity by dose to make it for 1 person\n",
    "# df['quantity'] = np.rint(df['quantity'].fillna(0).astype(int) / df['dose'])"
   ]
  },
  {
   "cell_type": "code",
   "execution_count": null,
   "metadata": {},
   "outputs": [],
   "source": []
  }
 ],
 "metadata": {
  "kernelspec": {
   "display_name": "Python 3",
   "language": "python",
   "name": "python3"
  },
  "language_info": {
   "codemirror_mode": {
    "name": "ipython",
    "version": 3
   },
   "file_extension": ".py",
   "mimetype": "text/x-python",
   "name": "python",
   "nbconvert_exporter": "python",
   "pygments_lexer": "ipython3",
   "version": "3.8.5"
  }
 },
 "nbformat": 4,
 "nbformat_minor": 4
}
