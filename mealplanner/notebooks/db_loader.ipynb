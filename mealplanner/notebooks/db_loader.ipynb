{
 "cells": [
  {
   "cell_type": "code",
   "execution_count": 96,
   "metadata": {},
   "outputs": [],
   "source": [
    "import datetime\n",
    "\n",
    "import pandas as pd\n",
    "import numpy as np\n",
    "\n",
    "import sqlite3\n",
    "import os"
   ]
  },
  {
   "cell_type": "code",
   "execution_count": 97,
   "metadata": {},
   "outputs": [],
   "source": [
    "conn = sqlite3.connect('../db.sqlite3')"
   ]
  },
  {
   "cell_type": "code",
   "execution_count": 98,
   "metadata": {},
   "outputs": [],
   "source": [
    "c = conn.cursor()"
   ]
  },
  {
   "cell_type": "code",
   "execution_count": 99,
   "metadata": {},
   "outputs": [
    {
     "name": "stdout",
     "output_type": "stream",
     "text": [
      "[('django_migrations',), ('sqlite_sequence',), ('auth_group_permissions',), ('auth_user_groups',), ('auth_user_user_permissions',), ('django_admin_log',), ('django_content_type',), ('auth_permission',), ('auth_user',), ('auth_group',), ('django_session',), ('weekly_planner_recipe',), ('weekly_planner_ingredients',), ('weekly_planner_recipe_fact',)]\n"
     ]
    }
   ],
   "source": [
    "conn = sqlite3.connect('../db.sqlite3')\n",
    "\n",
    "cursorObj = conn.cursor()\n",
    "cursorObj.execute('SELECT name from sqlite_master where type= \"table\"')\n",
    "print(cursorObj.fetchall())\n",
    "\n",
    "c.close()"
   ]
  },
  {
   "cell_type": "markdown",
   "metadata": {},
   "source": [
    "# Get Data"
   ]
  },
  {
   "cell_type": "code",
   "execution_count": 122,
   "metadata": {},
   "outputs": [],
   "source": [
    "# Import data\n",
    "df = pd.read_excel('scraped_recipes_clean.xlsx')"
   ]
  },
  {
   "cell_type": "code",
   "execution_count": 123,
   "metadata": {},
   "outputs": [],
   "source": [
    "# Convert quantities to mono-dose\n",
    "df['quantity'] = np.rint(df['quantity'].astype(float) / df['dose'])"
   ]
  },
  {
   "cell_type": "markdown",
   "metadata": {},
   "source": [
    "# Ingredients"
   ]
  },
  {
   "cell_type": "code",
   "execution_count": 124,
   "metadata": {},
   "outputs": [],
   "source": [
    "def existing_ingredients(db = '../db.sqlite3'):\n",
    "    \n",
    "    conn = sqlite3.connect(db)\n",
    "    c = conn.cursor()\n",
    "    \n",
    "    # Create table\n",
    "    c.execute('''SELECT * FROM weekly_planner_ingredients''')\n",
    "    \n",
    "    cols = ['ingredient', 'timestamp', 'unit_measure']\n",
    "    df = pd.DataFrame(c.fetchall(), columns = cols)\n",
    "    conn.close()\n",
    "    \n",
    "    return df"
   ]
  },
  {
   "cell_type": "code",
   "execution_count": 125,
   "metadata": {},
   "outputs": [],
   "source": [
    "# Check Existing Ingredients\n",
    "ext = existing_ingredients()\n",
    "new_ingredients = df[['ingredient', 'unit_measure', 'timestamp']].drop_duplicates()\n",
    "\n",
    "# Remove Ingredients that are not in the new data\n",
    "new_df = new_ingredients[~new_ingredients['ingredient'].isin(ext['ingredient'])]\n",
    "\n",
    "assert len(new_df) == len(new_df['ingredient'].unique())"
   ]
  },
  {
   "cell_type": "code",
   "execution_count": 126,
   "metadata": {},
   "outputs": [],
   "source": [
    "conn = sqlite3.connect('../db.sqlite3')\n",
    "c = conn.cursor()\n",
    "\n",
    "for i in new_df.itertuples():\n",
    "\n",
    "    c.execute(\"\"\"INSERT INTO weekly_planner_ingredients \n",
    "                ('Ingredient', 'Timestamp', 'Unit_measure')\n",
    "                VALUES ('{}', '{}', '{}')\"\"\".format(i.ingredient, i.timestamp, i.unit_measure)) \n",
    "\n",
    "conn.commit()\n",
    "conn.close()"
   ]
  },
  {
   "cell_type": "markdown",
   "metadata": {},
   "source": [
    "# Recipes"
   ]
  },
  {
   "cell_type": "code",
   "execution_count": 127,
   "metadata": {},
   "outputs": [],
   "source": [
    "rec = df[['recipe_name', 'recipe_source', 'url', 'timestamp']]\n",
    "rec = rec.drop_duplicates()"
   ]
  },
  {
   "cell_type": "code",
   "execution_count": 128,
   "metadata": {},
   "outputs": [],
   "source": [
    "conn = sqlite3.connect('../db.sqlite3')\n",
    "c = conn.cursor()\n",
    "\n",
    "for i in rec.itertuples():\n",
    "\n",
    "    c.execute(\"\"\"INSERT INTO weekly_planner_recipe \n",
    "                VALUES ('{}', '{}', '{}', '{}')\"\"\".format(i.recipe_name, \n",
    "                                                          i.recipe_source, \n",
    "                                                          i.url,\n",
    "                                                          i.timestamp)) \n",
    "\n",
    "conn.commit()\n",
    "conn.close()"
   ]
  },
  {
   "cell_type": "markdown",
   "metadata": {},
   "source": [
    "# Recipe Facts"
   ]
  },
  {
   "cell_type": "code",
   "execution_count": 129,
   "metadata": {},
   "outputs": [
    {
     "data": {
      "text/plain": [
       "478"
      ]
     },
     "execution_count": 129,
     "metadata": {},
     "output_type": "execute_result"
    }
   ],
   "source": [
    "facts = df[[\"quantity\", \"timestamp\", \"ingredient\", \"recipe_name\"]]\n",
    "facts = facts.drop_duplicates()\n",
    "\n",
    "len(facts)"
   ]
  },
  {
   "cell_type": "code",
   "execution_count": 130,
   "metadata": {},
   "outputs": [],
   "source": [
    "conn = sqlite3.connect('../db.sqlite3')\n",
    "c = conn.cursor()\n",
    "\n",
    "for i in facts.itertuples():\n",
    "\n",
    "    c.execute(\"\"\"INSERT INTO weekly_planner_recipe_fact \n",
    "                (quantity, timestamp, ingredient, recipe_name)\n",
    "                VALUES ('{}', '{}', '{}', '{}')\"\"\".format(i.quantity, \n",
    "                                                          i.timestamp, \n",
    "                                                          i.ingredient,\n",
    "                                                          i.recipe_name)) \n",
    "\n",
    "conn.commit()\n",
    "conn.close()"
   ]
  },
  {
   "cell_type": "code",
   "execution_count": 141,
   "metadata": {},
   "outputs": [],
   "source": [
    "t = 1201"
   ]
  },
  {
   "cell_type": "code",
   "execution_count": 133,
   "metadata": {},
   "outputs": [
    {
     "data": {
      "text/plain": [
       "29"
      ]
     },
     "execution_count": 133,
     "metadata": {},
     "output_type": "execute_result"
    }
   ],
   "source": [
    "t % 50"
   ]
  },
  {
   "cell_type": "code",
   "execution_count": 142,
   "metadata": {},
   "outputs": [
    {
     "data": {
      "text/plain": [
       "1250"
      ]
     },
     "execution_count": 142,
     "metadata": {},
     "output_type": "execute_result"
    }
   ],
   "source": [
    "t + 50 - (t % 50)"
   ]
  },
  {
   "cell_type": "code",
   "execution_count": null,
   "metadata": {},
   "outputs": [],
   "source": []
  }
 ],
 "metadata": {
  "kernelspec": {
   "display_name": "Python 3",
   "language": "python",
   "name": "python3"
  },
  "language_info": {
   "codemirror_mode": {
    "name": "ipython",
    "version": 3
   },
   "file_extension": ".py",
   "mimetype": "text/x-python",
   "name": "python",
   "nbconvert_exporter": "python",
   "pygments_lexer": "ipython3",
   "version": "3.6.5"
  }
 },
 "nbformat": 4,
 "nbformat_minor": 2
}
